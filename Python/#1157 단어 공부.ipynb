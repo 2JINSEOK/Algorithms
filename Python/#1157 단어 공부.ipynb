{
 "cells": [
  {
   "cell_type": "code",
   "execution_count": 28,
   "id": "3764eeca",
   "metadata": {},
   "outputs": [
    {
     "data": {
      "text/plain": [
       "'\\n1. 각각의 카운터 변수를 어떻게 생성할 것이냐\\n2. 각 알파벳들을 어떻게 분류할 것인지\\n3. 각 알파벳에 대한 카운터 변수를 만드는 것\\n4. 각 아스키코드에 대한 카운터를 만든다\\n'"
      ]
     },
     "execution_count": 28,
     "metadata": {},
     "output_type": "execute_result"
    }
   ],
   "source": [
    "\"\"\"\n",
    "1. 각각의 카운터 변수를 어떻게 생성할 것이냐\n",
    "2. 각 알파벳들을 어떻게 분류할 것인지\n",
    "3. 각 알파벳에 대한 카운터 변수를 만드는 것\n",
    "4. 각 아스키코드에 대한 카운터를 만든다\n",
    "\"\"\""
   ]
  },
  {
   "cell_type": "code",
   "execution_count": 30,
   "id": "ccae97e5",
   "metadata": {},
   "outputs": [
    {
     "name": "stdout",
     "output_type": "stream",
     "text": [
      "zZa\n"
     ]
    },
    {
     "data": {
      "text/plain": [
       "'ZZA'"
      ]
     },
     "execution_count": 30,
     "metadata": {},
     "output_type": "execute_result"
    }
   ],
   "source": [
    "word = input()\n",
    "result = word.upper()\n",
    "result"
   ]
  },
  {
   "cell_type": "code",
   "execution_count": 31,
   "id": "057e4f41",
   "metadata": {},
   "outputs": [],
   "source": [
    "cnt = [0 for i in range(65, 91)]"
   ]
  },
  {
   "cell_type": "code",
   "execution_count": 32,
   "id": "de765e61",
   "metadata": {},
   "outputs": [
    {
     "name": "stdout",
     "output_type": "stream",
     "text": [
      "[1, 0, 0, 0, 0, 0, 0, 0, 0, 0, 0, 0, 0, 0, 0, 0, 0, 0, 0, 0, 0, 0, 0, 0, 0, 2]\n"
     ]
    }
   ],
   "source": [
    "for i in range(len(result)): # 아스키코드 추출-> 해당 아스키코드 카운터 증가\n",
    "    n = ord(result[i])\n",
    "    cnt[n-ord('A')] += 1\n",
    "print(cnt)    "
   ]
  },
  {
   "cell_type": "code",
   "execution_count": 33,
   "id": "3c3b5134",
   "metadata": {},
   "outputs": [
    {
     "name": "stdout",
     "output_type": "stream",
     "text": [
      "Z\n"
     ]
    }
   ],
   "source": [
    "max_value = cnt[0]\n",
    "max_index = 0\n",
    "for i in range(1, len(cnt)):\n",
    "    if cnt[i] > max_value:\n",
    "        max_value = cnt[i]\n",
    "        max_index = i\n",
    "\n",
    "for i in range(0, len(cnt)):\n",
    "    if cnt[i] == max_value and i != max_index:\n",
    "        print(\"?\")\n",
    "        break\n",
    "else:\n",
    "    print(chr(max_index + ord('A')))"
   ]
  },
  {
   "cell_type": "code",
   "execution_count": null,
   "id": "0e557b01",
   "metadata": {},
   "outputs": [],
   "source": []
  }
 ],
 "metadata": {
  "kernelspec": {
   "display_name": "Python 3",
   "language": "python",
   "name": "python3"
  },
  "language_info": {
   "codemirror_mode": {
    "name": "ipython",
    "version": 3
   },
   "file_extension": ".py",
   "mimetype": "text/x-python",
   "name": "python",
   "nbconvert_exporter": "python",
   "pygments_lexer": "ipython3",
   "version": "3.8.8"
  }
 },
 "nbformat": 4,
 "nbformat_minor": 5
}
