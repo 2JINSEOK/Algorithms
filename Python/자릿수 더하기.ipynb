{
 "cells": [
  {
   "cell_type": "code",
   "execution_count": 4,
   "id": "a9d0e37f",
   "metadata": {},
   "outputs": [
    {
     "data": {
      "text/plain": [
       "24"
      ]
     },
     "execution_count": 4,
     "metadata": {},
     "output_type": "execute_result"
    }
   ],
   "source": [
    "def solution(n): \n",
    "#     len(str(n))\n",
    "    sum = 0\n",
    "    for i in range(len(str(n))):\n",
    "        a = str(n)[i]\n",
    "        sum += int(a) # sum = sum + a\n",
    "    return sum\n",
    "    \n",
    "    \n",
    "    \n",
    "solution(987)  "
   ]
  },
  {
   "cell_type": "code",
   "execution_count": null,
   "id": "6eef2740",
   "metadata": {},
   "outputs": [],
   "source": []
  }
 ],
 "metadata": {
  "kernelspec": {
   "display_name": "Python 3",
   "language": "python",
   "name": "python3"
  },
  "language_info": {
   "codemirror_mode": {
    "name": "ipython",
    "version": 3
   },
   "file_extension": ".py",
   "mimetype": "text/x-python",
   "name": "python",
   "nbconvert_exporter": "python",
   "pygments_lexer": "ipython3",
   "version": "3.8.8"
  }
 },
 "nbformat": 4,
 "nbformat_minor": 5
}
