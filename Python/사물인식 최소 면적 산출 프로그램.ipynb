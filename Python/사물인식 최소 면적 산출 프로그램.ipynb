{
 "cells": [
  {
   "cell_type": "code",
   "execution_count": 1,
   "id": "9c170589",
   "metadata": {},
   "outputs": [
    {
     "data": {
      "text/plain": [
       "'\\n1. N, K 입력 받기\\n2. x, y, k 입력 받기\\n\\n'"
      ]
     },
     "execution_count": 1,
     "metadata": {},
     "output_type": "execute_result"
    }
   ],
   "source": [
    "\"\"\"\n",
    "1. N, K 입력 받기\n",
    "-> 인풋값이 여러개이므로 set이나 tuple 이용?\n",
    "-> string으로 입력 받았으므로 정수 변환 필요\n",
    "\n",
    "2. x, y, k 입력 받기\n",
    "-> 입력받고 나서 이것을 하나의 set으로?-> 하나의 변수?->for문 돌려서?\n",
    "-> 하지만 정해진 범위가 없다 while?\n",
    "-> 빈 리스트 만들고 append 이용\n",
    "-> N의 개수만큼 for돌면서 리스트 생성하기\n",
    "-> append를 통해서 여러개를 입력받으면 각각의 원소들을 어떻게 사용할 것인지\n",
    "-> 만약 그게 아니라면 먼저 개수만큼 리스트를 생성해놓고 for돌면서 원소추가?\n",
    "\n",
    "3. 좌표 설정은 어떻게?\n",
    "\"\"\""
   ]
  },
  {
   "cell_type": "code",
   "execution_count": 1,
   "id": "45cce74c",
   "metadata": {},
   "outputs": [
    {
     "name": "stdout",
     "output_type": "stream",
     "text": [
      "5 2\n",
      "5\n",
      "2\n"
     ]
    }
   ],
   "source": [
    "N, K = input().split() # 자연수 두 개 입력받고 공백으로 구분\n",
    "N = int(N)\n",
    "K = int(K)\n",
    "print(N)\n",
    "print(K)"
   ]
  },
  {
   "cell_type": "code",
   "execution_count": 7,
   "id": "1c782ad5",
   "metadata": {},
   "outputs": [
    {
     "name": "stdout",
     "output_type": "stream",
     "text": [
      "-5 -3 1\n"
     ]
    }
   ],
   "source": [
    "# x, y, k = input().split() \n",
    "# x = int(x) # x좌표\n",
    "# y = int(y) # y좌표\n",
    "# k = int(k) # 해당 색깔"
   ]
  },
  {
   "cell_type": "code",
   "execution_count": 7,
   "id": "5b43a8b2",
   "metadata": {},
   "outputs": [
    {
     "name": "stdout",
     "output_type": "stream",
     "text": [
      "-4 -2 1\n",
      "[['-4', '-2', '1']]\n",
      "-5 -3 1\n",
      "[['-5', '-3', '1']]\n",
      "5 -4 2\n",
      "[['5', '-4', '2']]\n",
      "4 -5 2\n",
      "[['4', '-5', '2']]\n",
      "3 -8 2\n",
      "[['3', '-8', '2']]\n"
     ]
    }
   ],
   "source": [
    "xyk = []\n",
    "for i in range(N):\n",
    "    listi = [] # for 돌면서 빈 리스트 생성하고\n",
    "    listi.append(input().split()) # 생성된 리스트에 변수 입력받기\n",
    "    print(listi)"
   ]
  },
  {
   "cell_type": "code",
   "execution_count": 8,
   "id": "fe33b25f",
   "metadata": {},
   "outputs": [
    {
     "name": "stdout",
     "output_type": "stream",
     "text": [
      "[['3', '-8', '2']]\n"
     ]
    },
    {
     "data": {
      "text/plain": [
       "' \\n1. 왜 list2라는 원소가 존재하지 않는 것인지\\n2. 확인 결과 마지막 list만 출력되는 것으로 확인\\n3. 그렇다면 어떻게 각각의 리스트로 원소를 저장할지\\n'"
      ]
     },
     "execution_count": 8,
     "metadata": {},
     "output_type": "execute_result"
    }
   ],
   "source": [
    "print(listi) \n",
    "\"\"\" \n",
    "1. 왜 list2라는 원소가 존재하지 않는 것인지\n",
    "2. 확인 결과 마지막 list만 출력되는 것으로 확인\n",
    "3. 그렇다면 어떻게 각각의 리스트로 원소를 저장할지\n",
    "\"\"\""
   ]
  },
  {
   "cell_type": "code",
   "execution_count": null,
   "id": "414df348",
   "metadata": {},
   "outputs": [],
   "source": []
  }
 ],
 "metadata": {
  "kernelspec": {
   "display_name": "Python 3",
   "language": "python",
   "name": "python3"
  },
  "language_info": {
   "codemirror_mode": {
    "name": "ipython",
    "version": 3
   },
   "file_extension": ".py",
   "mimetype": "text/x-python",
   "name": "python",
   "nbconvert_exporter": "python",
   "pygments_lexer": "ipython3",
   "version": "3.8.8"
  }
 },
 "nbformat": 4,
 "nbformat_minor": 5
}
