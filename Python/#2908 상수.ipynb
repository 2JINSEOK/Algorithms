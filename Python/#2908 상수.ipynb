{
 "cells": [
  {
   "cell_type": "code",
   "execution_count": null,
   "id": "8dc5d477",
   "metadata": {},
   "outputs": [],
   "source": [
    "\"\"\"\n",
    "1. 숫자 입력받고\n",
    "2. 숫자 뒤집고\n",
    "2-1. 숫자를 뒤집기 위해 reverse 사용?\n",
    "2-2. reverse를 위해 list 변환?\n",
    "3. 크기 비교\n",
    "\"\"\""
   ]
  },
  {
   "cell_type": "code",
   "execution_count": 9,
   "id": "020d83f5",
   "metadata": {},
   "outputs": [
    {
     "name": "stdout",
     "output_type": "stream",
     "text": [
      "734 893\n"
     ]
    },
    {
     "data": {
      "text/plain": [
       "['4', '3', '7']"
      ]
     },
     "execution_count": 9,
     "metadata": {},
     "output_type": "execute_result"
    }
   ],
   "source": [
    "num1, num2 = input().split() # 공백을 기준으로 입력받은 값 분리\n",
    "\n",
    "list(reversed(num1))"
   ]
  },
  {
   "cell_type": "code",
   "execution_count": 42,
   "id": "99c4557e",
   "metadata": {},
   "outputs": [
    {
     "name": "stdout",
     "output_type": "stream",
     "text": [
      "<class 'int'>\n"
     ]
    }
   ],
   "source": [
    "reversed_num1 = int(\"\".join(reversed(num1)))\n",
    "reversed_num2 = int(\"\".join(reversed(num2)))\n",
    "print(type(reversed_num1))\n",
    "# 설명 필요"
   ]
  },
  {
   "cell_type": "code",
   "execution_count": 44,
   "id": "853f0a8b",
   "metadata": {},
   "outputs": [
    {
     "name": "stdout",
     "output_type": "stream",
     "text": [
      "437\n"
     ]
    }
   ],
   "source": [
    "if reversed_num1 > reversed_num2:\n",
    "    print(reversed_num1)\n",
    "else:\n",
    "    print(reversed_num2)"
   ]
  },
  {
   "cell_type": "code",
   "execution_count": 2,
   "id": "78fe65f2",
   "metadata": {},
   "outputs": [
    {
     "name": "stdout",
     "output_type": "stream",
     "text": [
      "[3, 2, 1]\n"
     ]
    }
   ],
   "source": [
    "li = [1, 2, 3]\n",
    "li.reverse()\n",
    "print(li)"
   ]
  },
  {
   "cell_type": "code",
   "execution_count": 5,
   "id": "962e7628",
   "metadata": {},
   "outputs": [
    {
     "name": "stdout",
     "output_type": "stream",
     "text": [
      "[1, 2, 3]\n",
      "[3, 2, 1]\n"
     ]
    }
   ],
   "source": [
    "li = [1, 2, 3]\n",
    "li_rev = reversed(li)\n",
    "print(li)\n",
    "print(list(li_rev))"
   ]
  },
  {
   "cell_type": "code",
   "execution_count": null,
   "id": "ede2372f",
   "metadata": {},
   "outputs": [],
   "source": []
  }
 ],
 "metadata": {
  "kernelspec": {
   "display_name": "Python 3",
   "language": "python",
   "name": "python3"
  },
  "language_info": {
   "codemirror_mode": {
    "name": "ipython",
    "version": 3
   },
   "file_extension": ".py",
   "mimetype": "text/x-python",
   "name": "python",
   "nbconvert_exporter": "python",
   "pygments_lexer": "ipython3",
   "version": "3.8.8"
  }
 },
 "nbformat": 4,
 "nbformat_minor": 5
}
