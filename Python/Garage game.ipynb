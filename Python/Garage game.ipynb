{
 "cells": [
  {
   "cell_type": "code",
   "execution_count": 3,
   "id": "27d1182b",
   "metadata": {},
   "outputs": [
    {
     "name": "stdout",
     "output_type": "stream",
     "text": [
      "2 1 1 2 2 1 1 3 3 4 4 1 2\n",
      "[2, 1, 1, 2, 2, 1, 1, 3, 3, 4, 4, 1, 2]\n",
      "1\n"
     ]
    }
   ],
   "source": [
    "total = input()\n",
    "total_list = [int(t) for t in total.split()]\n",
    "print(total_list)\n",
    "\n",
    "idx = 0\n",
    "N = total_list[idx]\n",
    "               \n",
    "li = [[] for i in range(3 * N)]\n",
    "# [[1, 1], [2, 2], [1, 1], [3, 3], [4, 4], [1, 2]]       \n",
    "    \n",
    "for i in range(3 * N): # row\n",
    "    for j in range(N): # col\n",
    "        idx += 1\n",
    "        li[i].append(total_list[idx])\n",
    "        \n",
    "print(li[0][1])"
   ]
  },
  {
   "cell_type": "code",
   "execution_count": 4,
   "id": "f9fc2d43",
   "metadata": {},
   "outputs": [
    {
     "name": "stdout",
     "output_type": "stream",
     "text": [
      "element: 1\n",
      "loc :  0 0\n",
      "************************************************************\n",
      "\n",
      "element: 1\n",
      "loc :  0 1\n",
      "************************************************************\n",
      "\n",
      "element: 2\n",
      "loc :  1 0\n",
      "************************************************************\n",
      "\n",
      "element: 2\n",
      "loc :  1 1\n",
      "************************************************************\n",
      "\n",
      "element: 1\n",
      "loc :  2 0\n",
      "************************************************************\n",
      "\n",
      "element: 1\n",
      "loc :  2 1\n",
      "************************************************************\n",
      "\n",
      "element: 3\n",
      "loc :  3 0\n",
      "************************************************************\n",
      "\n",
      "element: 3\n",
      "loc :  3 1\n",
      "************************************************************\n",
      "\n",
      "element: 4\n",
      "loc :  4 0\n",
      "************************************************************\n",
      "\n",
      "element: 4\n",
      "loc :  4 1\n",
      "************************************************************\n",
      "\n",
      "element: 1\n",
      "loc :  5 0\n",
      "************************************************************\n",
      "\n",
      "element: 2\n",
      "loc :  5 1\n",
      "************************************************************\n",
      "\n"
     ]
    }
   ],
   "source": [
    "for i in range(3 * N): # row\n",
    "    for j in range(N): # col\n",
    "        print('element:', li[i][j])\n",
    "        print('loc : ', i, j)\n",
    "        print('*' * 60)\n",
    "        print()"
   ]
  },
  {
   "cell_type": "code",
   "execution_count": 5,
   "id": "262167ca",
   "metadata": {},
   "outputs": [
    {
     "name": "stdout",
     "output_type": "stream",
     "text": [
      "[[], []]\n",
      "6\n",
      "li[i]:  [4, 4]\n",
      "box[box_idx]:  []\n",
      "li[i]:  [1, 2]\n",
      "box[box_idx]:  []\n",
      "[[1, 1], [2, 2], [1, 1], [3, 3], [4, 4], [1, 2]]\n",
      "[[4, 4], [1, 2]]\n"
     ]
    }
   ],
   "source": [
    "box = [[] for i in range(N)]\n",
    "# [[], []]\n",
    "print(box)\n",
    "print(len(li))\n",
    "\n",
    "box_idx = 0\n",
    "for i in range(len(li)-N, len(li)):\n",
    "    print('li[i]: ', li[i])\n",
    "    print('box[box_idx]: ', box[box_idx])\n",
    "    box[box_idx] = li[i]\n",
    "    box_idx += 1\n",
    "\n",
    "print(li)\n",
    "print(box)"
   ]
  },
  {
   "cell_type": "code",
   "execution_count": 6,
   "id": "4b563af4",
   "metadata": {},
   "outputs": [
    {
     "name": "stdout",
     "output_type": "stream",
     "text": [
      "[[1, 1], [2, 2], [1, 1], [3, 3], [4, 4], [1, 2]]\n"
     ]
    }
   ],
   "source": [
    "print(li)"
   ]
  },
  {
   "cell_type": "code",
   "execution_count": 21,
   "id": "39f562b6",
   "metadata": {},
   "outputs": [
    {
     "name": "stdout",
     "output_type": "stream",
     "text": [
      "[4, 1, 2]\n",
      "[[0, 0], [1, 0], [1, 1]]\n",
      "[2, 1, 1]\n",
      "[[4, 4], [1, 2]]\n"
     ]
    }
   ],
   "source": [
    "max_score = 0\n",
    "candidate = []\n",
    "candidate_loc = []\n",
    "#candidate_count = []\n",
    "for i in range(len(box)): # row \n",
    "    for j in range(len(box[0])): # col\n",
    "        if box[i][j] not in candidate:\n",
    "            candidate.append(box[i][j])\n",
    "            candidate_loc.append([i, j])\n",
    "        \n",
    "#for i in range(len(candidate)):\n",
    "#    candidate_count.append(str(box).count(str(candidate[i])))\n",
    "        \n",
    "        \n",
    "print(candidate)\n",
    "print(candidate_loc)\n",
    "#print(candidate_count)\n",
    "print(box)"
   ]
  },
  {
   "cell_type": "code",
   "execution_count": 60,
   "id": "7bbe6aee",
   "metadata": {},
   "outputs": [],
   "source": [
    "def calcScore(box, candidate_number, candidate_number_loc):\n",
    "    total = 0\n",
    "    for i in range(1):\n",
    "        width, height, count = calcArea(box, candidate_number, candidate_number_loc)\n",
    "        #total += width * height + count\n",
    "        print(width, height, count)\n",
    "    #return total\n",
    "    \n",
    "def calcArea(box, candidate_number, candidate_number_loc):\n",
    "    icandi = [] \n",
    "    jcandi = []\n",
    "    count = 0\n",
    "    results = move(box, candidate_number, \n",
    "                   candidate_number_loc[0], candidate_number_loc[1],\n",
    "                  icandi, jcandi, count) \n",
    "    return results\n",
    "    \n",
    "def move(box, candidate_number, i, j, icandi, jcandi, count):\n",
    "    if i >= N or j >= N: return (max(icandi)+1, max(jcandi)+1, count)\n",
    "\n",
    "    if box[i][j] == candidate_number:\n",
    "        count += 1\n",
    "        icandi.append(i)\n",
    "        jcandi.append(j)\n",
    "        \n",
    "        move(box, candidate_number, i, j+1, icandi, jcandi, count)\n",
    "        move(box, candidate_number, i+1, j, icandi, jcandi, count)\n",
    "        \n",
    "        print(max(icandi)+1, max(jcandi)+1, count)\n",
    "        return (max(icandi)+1, max(jcandi)+1, count)"
   ]
  },
  {
   "cell_type": "code",
   "execution_count": 61,
   "id": "3ce1250c",
   "metadata": {},
   "outputs": [
    {
     "name": "stdout",
     "output_type": "stream",
     "text": [
      "[[4, 4], [1, 2]]\n",
      "1 2 2\n",
      "1 2 1\n",
      "1 2 1\n",
      "None\n"
     ]
    }
   ],
   "source": [
    "# candidate starting index\n",
    "# [rowindex-1, colindex], [index+1, colindex], [index, colindex-1], [index, colindex+1]\n",
    "\n",
    "# candidate: 4\n",
    "# candidate: 2\n",
    "# candidate: 1\n",
    "\n",
    "print(box)\n",
    "score = calcScore(box, candidate[0], candidate_loc[0])\n",
    "print(score)\n",
    "\n",
    "#scores = []\n",
    "#for i in range(len(candidate)):\n",
    "#   score = calcScore(box, candidate[i], candidate_loc[i])\n",
    "#    scores.append(score)1 1 1\n",
    "    \n",
    "#print(scores) \n",
    "    \n",
    "\n",
    "\n"
   ]
  },
  {
   "cell_type": "code",
   "execution_count": null,
   "id": "d0333e6a",
   "metadata": {},
   "outputs": [],
   "source": []
  }
 ],
 "metadata": {
  "kernelspec": {
   "display_name": "Python 3",
   "language": "python",
   "name": "python3"
  },
  "language_info": {
   "codemirror_mode": {
    "name": "ipython",
    "version": 3
   },
   "file_extension": ".py",
   "mimetype": "text/x-python",
   "name": "python",
   "nbconvert_exporter": "python",
   "pygments_lexer": "ipython3",
   "version": "3.8.8"
  }
 },
 "nbformat": 4,
 "nbformat_minor": 5
}
