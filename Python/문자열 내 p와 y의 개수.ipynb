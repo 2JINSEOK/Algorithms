{
 "cells": [
  {
   "cell_type": "code",
   "execution_count": 6,
   "id": "3170d83d",
   "metadata": {},
   "outputs": [
    {
     "data": {
      "text/plain": [
       "False"
      ]
     },
     "execution_count": 6,
     "metadata": {},
     "output_type": "execute_result"
    }
   ],
   "source": [
    "def solution(s):\n",
    "    cntP = 0\n",
    "    cntY = 0\n",
    "    \n",
    "    s = s.lower()\n",
    "    for i in range(len(s)):\n",
    "        if(s[i] == 'p'):\n",
    "            cntP += 1\n",
    "        elif(s[i] == 'y'):\n",
    "            cntY += 1\n",
    "    \n",
    "    if(cntP == cntY):\n",
    "        answer = True\n",
    "    else:\n",
    "        answer = False\n",
    "\n",
    "    return answer\n",
    "\n",
    "solution(\"Pyy\")"
   ]
  },
  {
   "cell_type": "code",
   "execution_count": null,
   "id": "2446644d",
   "metadata": {},
   "outputs": [],
   "source": []
  }
 ],
 "metadata": {
  "kernelspec": {
   "display_name": "Python 3",
   "language": "python",
   "name": "python3"
  },
  "language_info": {
   "codemirror_mode": {
    "name": "ipython",
    "version": 3
   },
   "file_extension": ".py",
   "mimetype": "text/x-python",
   "name": "python",
   "nbconvert_exporter": "python",
   "pygments_lexer": "ipython3",
   "version": "3.8.8"
  }
 },
 "nbformat": 4,
 "nbformat_minor": 5
}
