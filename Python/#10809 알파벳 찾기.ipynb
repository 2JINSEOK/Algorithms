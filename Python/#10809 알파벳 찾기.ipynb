{
 "cells": [
  {
   "cell_type": "code",
   "execution_count": 1,
   "id": "1cb4f42d",
   "metadata": {},
   "outputs": [
    {
     "data": {
      "text/plain": [
       "\"\\n1. 단어 입력\\n2. 단어 분리?\\n3. for문을 돌면서 각각의 단어들을 체크\\n4. for문을 돌리려면 입력받은 문자의 리스트가 필요+\\n5. 입력받은 str을 어떻게 리스트로?\\n6. 공백으로 구분하여 출력\\n7. list[i] == '숫자' 표현이 맞는지\\n8. 처음 등장하는 위치\\n\""
      ]
     },
     "execution_count": 1,
     "metadata": {},
     "output_type": "execute_result"
    }
   ],
   "source": [
    "\"\"\"\n",
    "1. 단어 입력\n",
    "2. 단어 분리?\n",
    "3. for문을 돌면서 각각의 단어들을 체크\n",
    "4. for문을 돌리려면 입력받은 문자의 리스트가 필요+\n",
    "5. 입력받은 str을 어떻게 리스트로?\n",
    "6. 공백으로 구분하여 출력\n",
    "7. list[i] == '숫자' 표현이 맞는지\n",
    "8. 처음 등장하는 위치\n",
    "\"\"\""
   ]
  },
  {
   "cell_type": "code",
   "execution_count": 56,
   "id": "f45d976a",
   "metadata": {},
   "outputs": [
    {
     "name": "stdout",
     "output_type": "stream",
     "text": [
      "baekjoon\n"
     ]
    }
   ],
   "source": [
    "word = input()"
   ]
  },
  {
   "cell_type": "code",
   "execution_count": 60,
   "id": "ad4d89cd",
   "metadata": {},
   "outputs": [
    {
     "name": "stdout",
     "output_type": "stream",
     "text": [
      "['b', 'a', 'e', 'k', 'j', 'o', '`', 'n']\n"
     ]
    }
   ],
   "source": [
    "new_word = []\n",
    "for i in range(len(word)):\n",
    "    if word[i] not in new_word:\n",
    "        new_word.append(word[i])\n",
    "    else:\n",
    "        new_word.append(\"`\")\n",
    "print(new_word)"
   ]
  },
  {
   "cell_type": "code",
   "execution_count": 61,
   "id": "294fdf21",
   "metadata": {},
   "outputs": [
    {
     "data": {
      "text/plain": [
       "[-1,\n",
       " -1,\n",
       " -1,\n",
       " -1,\n",
       " -1,\n",
       " -1,\n",
       " -1,\n",
       " -1,\n",
       " -1,\n",
       " -1,\n",
       " -1,\n",
       " -1,\n",
       " -1,\n",
       " -1,\n",
       " -1,\n",
       " -1,\n",
       " -1,\n",
       " -1,\n",
       " -1,\n",
       " -1,\n",
       " -1,\n",
       " -1,\n",
       " -1,\n",
       " -1,\n",
       " -1,\n",
       " -1,\n",
       " -1]"
      ]
     },
     "execution_count": 61,
     "metadata": {},
     "output_type": "execute_result"
    }
   ],
   "source": [
    "result = [-1 for i in range(96,123)]\n",
    "result # 0 ~ 27\n",
    "# [-1. -1 . //// -1]"
   ]
  },
  {
   "cell_type": "code",
   "execution_count": 64,
   "id": "d8a0eec2",
   "metadata": {
    "scrolled": false
   },
   "outputs": [
    {
     "name": "stdout",
     "output_type": "stream",
     "text": [
      "[1, 0, -1, -1, 2, -1, -1, -1, -1, 4, 3, -1, -1, 7, 5, -1, -1, -1, -1, -1, -1, -1, -1, -1, -1, -1]\n"
     ]
    }
   ],
   "source": [
    "for i in range(len(new_word)): # 여기서 i값은 0부터 시작인지 아니면 1부터 시작인지\n",
    "    result[ord(new_word[i]) - ord(\"a\")] = i\n",
    "print(result[:len(result)-1])"
   ]
  },
  {
   "cell_type": "code",
   "execution_count": null,
   "id": "23629b4a",
   "metadata": {},
   "outputs": [],
   "source": []
  },
  {
   "cell_type": "code",
   "execution_count": null,
   "id": "9b00fff9",
   "metadata": {},
   "outputs": [],
   "source": []
  }
 ],
 "metadata": {
  "kernelspec": {
   "display_name": "Python 3",
   "language": "python",
   "name": "python3"
  },
  "language_info": {
   "codemirror_mode": {
    "name": "ipython",
    "version": 3
   },
   "file_extension": ".py",
   "mimetype": "text/x-python",
   "name": "python",
   "nbconvert_exporter": "python",
   "pygments_lexer": "ipython3",
   "version": "3.8.8"
  }
 },
 "nbformat": 4,
 "nbformat_minor": 5
}
