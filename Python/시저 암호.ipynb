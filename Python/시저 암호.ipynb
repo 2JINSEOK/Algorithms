{
 "cells": [
  {
   "cell_type": "code",
   "execution_count": null,
   "id": "c4acfbc0",
   "metadata": {},
   "outputs": [],
   "source": [
    "\"\"\"\n",
    "1. 문자열 입력, 거리 입력\n",
    "2. string indices must be integers\n",
    "3. s의 모든 값들을 아스키코드로 바꿔준다?\n",
    "4. s의 원소들을 하나씩 분리\n",
    "5. s를 str에서 list로 변환해야만 하는지?\n",
    "\"\"\""
   ]
  },
  {
   "cell_type": "code",
   "execution_count": 54,
   "id": "c82fb884",
   "metadata": {},
   "outputs": [
    {
     "name": "stdout",
     "output_type": "stream",
     "text": [
      "a B z\n",
      "1\n"
     ]
    }
   ],
   "source": [
    "s = input()\n",
    "n = int(input())"
   ]
  },
  {
   "cell_type": "code",
   "execution_count": 55,
   "id": "bd939463",
   "metadata": {},
   "outputs": [
    {
     "name": "stdout",
     "output_type": "stream",
     "text": [
      "['b', ' ', 'C', ' ', 'a']\n"
     ]
    }
   ],
   "source": [
    "Changed_s = []\n",
    "for i in range(len(s)):\n",
    "    Changed_s.append(s[i])  # 아스키코드로 변환 후 문자열로 다시 변환\n",
    "for j in range(len(Changed_s)):\n",
    "    if Changed_s[j] != ' ':\n",
    "        if ord(Changed_s[j]) >= ord('a'):\n",
    "            Changed_s[j] = chr(((ord(Changed_s[j]) + n - ord('a')) % 26) + ord('a'))\n",
    "        else:\n",
    "            Changed_s[j] = chr(((ord(Changed_s[j]) + n - ord('A')) % 26) + ord('A'))\n",
    "      \n",
    "print(Changed_s)\n",
    "answer = (\"\".join(Changed_s))"
   ]
  },
  {
   "cell_type": "code",
   "execution_count": 56,
   "id": "1518c1c5",
   "metadata": {},
   "outputs": [],
   "source": [
    "def solution(s, n):\n",
    "    Changed_s = []\n",
    "    for i in range(len(s)):\n",
    "        Changed_s.append(s[i])  # 아스키코드로 변환 후 문자열로 다시 변환\n",
    "    for j in range(len(Changed_s)):\n",
    "        if Changed_s[j] != ' ':\n",
    "            if ord(Changed_s[j]) >= ord('a'):\n",
    "                Changed_s[j] = chr(((ord(Changed_s[j]) + n - ord('a')) % 26) + ord('a'))\n",
    "            else:\n",
    "                Changed_s[j] = chr(((ord(Changed_s[j]) + n - ord('A')) % 26) + ord('A'))\n",
    "    answer = (\"\".join(Changed_s))\n",
    " \n",
    "    return answer"
   ]
  },
  {
   "cell_type": "code",
   "execution_count": 57,
   "id": "ef902548",
   "metadata": {},
   "outputs": [
    {
     "data": {
      "text/plain": [
       "'BC'"
      ]
     },
     "execution_count": 57,
     "metadata": {},
     "output_type": "execute_result"
    }
   ],
   "source": [
    "s = 'AB'\n",
    "n = 1\n",
    "solution(s, n)"
   ]
  },
  {
   "cell_type": "code",
   "execution_count": null,
   "id": "623eed84",
   "metadata": {},
   "outputs": [],
   "source": []
  }
 ],
 "metadata": {
  "kernelspec": {
   "display_name": "Python 3",
   "language": "python",
   "name": "python3"
  },
  "language_info": {
   "codemirror_mode": {
    "name": "ipython",
    "version": 3
   },
   "file_extension": ".py",
   "mimetype": "text/x-python",
   "name": "python",
   "nbconvert_exporter": "python",
   "pygments_lexer": "ipython3",
   "version": "3.8.8"
  }
 },
 "nbformat": 4,
 "nbformat_minor": 5
}
