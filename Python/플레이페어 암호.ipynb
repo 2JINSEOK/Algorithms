{
 "cells": [
  {
   "cell_type": "code",
   "execution_count": 1,
   "id": "2bf25217",
   "metadata": {},
   "outputs": [
    {
     "data": {
      "text/plain": [
       "'\\n1. I와 J를 동일한 것으로 생각. \\n2. 두 글자로 이루어진 쌍 파괴\\n'"
      ]
     },
     "execution_count": 1,
     "metadata": {},
     "output_type": "execute_result"
    }
   ],
   "source": [
    "\"\"\"\n",
    "- 알파벳으로 이루어진 문자열을 암호화\n",
    "\n",
    "*  한 번에 두 글자 단위로 암호화를 진행\n",
    "* I와 J를 동일한 것으로 생각. \n",
    "* 두 글자로 이루어진 쌍 파괴\n",
    "-------------------------------------------------------------------------------------\n",
    "0. 5*5 크기의 표로 변환\n",
    "\n",
    "1. 키를 한 글자씩 보면서 왼쪽 위 칸부터 한 줄씩 채운다\n",
    "2. 이전에 봤던 알파벳이 한번 더 등장하면 무시하고 다음 글자\n",
    "3. 키를 다 보고도 칸이 남는다면, 아직 등장하지 않은 알파벳을 순서대로 채워넣는다\n",
    "-------------------------------------------------------------------------------------\n",
    "0. 메세지를 두 글자씩 나눈다.\n",
    "\n",
    "1.같은 두 글자로 이루어진 쌍이 생기면 가장 앞에 있는 쌍 사이에 X를 넣고 뒤쪽은 새롭게\n",
    "쌍 구성\n",
    "2.마지막에 한 글자가 남는다면 X를 덧붙여 강제로 쌍을 맞춘다\n",
    "-------------------------------------------------------------------------------------\n",
    "0. 쌍을 만든 두 글자를 암호화한다.\n",
    "\n",
    "1. 두 글자가 표에서 같은 행에 존재->오른쪽으로 한 칸 이동한 칸에 적힌 글자로 암호화\n",
    "2. 두 글자가 같은 열에 존재->아래쪽으로 한 칸 이동한 칸에 적힌 글자로 암호화\n",
    "3. 두 글자가 표에서 서로 다은 행, 열에 존재->두 글자가 위치하는 칸의 열이 서로 교환된\n",
    "위치에 적힌 글자로 암호화\n",
    "\"\"\""
   ]
  },
  {
   "cell_type": "code",
   "execution_count": 3,
   "id": "0182c628",
   "metadata": {
    "scrolled": true
   },
   "outputs": [
    {
     "name": "stdout",
     "output_type": "stream",
     "text": [
      "01234567890123456789\n",
      "0 1 2 3 4\n",
      "5 6 7 8 9\n",
      "0 1 2 3 4\n",
      "5 6 7 8 9\n",
      "{'2', '6', '4', '1', '8', '7', '3', '5', '0', '9'}\n"
     ]
    }
   ],
   "source": [
    "# 주어진 키를 표로 변환\n",
    "# PLAYFAIRCIPHERKEY\n",
    "'''\n",
    "1. 문자를 입력받는다\n",
    "2. 입력받은 문자열을 5*5형태로 바꿔준다->for?,리스트,다시 for?\n",
    "3. 그렇다면 5*5형태는 어떻게?->일렬로 출력되게끔\n",
    "4. 5*5형태로 출력이 되어야하나->5로 나누었을때 나머지가 0이라면 다음줄로 enter\n",
    "5. 지금까지 사용한 알파벳을 리스트에 저장하여 알파벳의 중복여부 확인\n",
    "6. 그렇다면 각각의 행을 어떻게 저장할 것인지->append?\n",
    "'''\n",
    "res = set()\n",
    "key_str = input()\n",
    "key_str2lst = list(key_str)\n",
    "for i in range(len(key_str2lst)):\n",
    "    if i != 0 and i % 5 == 4:\n",
    "        if(key_str2lst[i] == key_str2lst[i-1]):\n",
    "            break\n",
    "        else:\n",
    "            print(key_str2lst[i], end = \"\\n\")\n",
    "            res.add(key_str2lst[i])\n",
    "    else:\n",
    "        print(key_str2lst[i], end = \" \")\n",
    "        res.add(key_str2lst[i])\n",
    "print(res)"
   ]
  },
  {
   "cell_type": "code",
   "execution_count": null,
   "id": "122e534e",
   "metadata": {},
   "outputs": [],
   "source": [
    "res = set()\n",
    "msg_str = input()\n",
    "msg_str2lst = list(msg_str)\n",
    "key_str = input()\n",
    "#key_str2lst = list(key_str)\n",
    "\n",
    "key_str2lst = [ [0] * 5 for i in range(5) ]\n",
    "print(key_str2lst)\n",
    "\n",
    "#[[], [], [], [], []]"
   ]
  },
  {
   "cell_type": "code",
   "execution_count": null,
   "id": "eb2309e6",
   "metadata": {},
   "outputs": [],
   "source": []
  }
 ],
 "metadata": {
  "kernelspec": {
   "display_name": "Python 3",
   "language": "python",
   "name": "python3"
  },
  "language_info": {
   "codemirror_mode": {
    "name": "ipython",
    "version": 3
   },
   "file_extension": ".py",
   "mimetype": "text/x-python",
   "name": "python",
   "nbconvert_exporter": "python",
   "pygments_lexer": "ipython3",
   "version": "3.8.12"
  }
 },
 "nbformat": 4,
 "nbformat_minor": 5
}
