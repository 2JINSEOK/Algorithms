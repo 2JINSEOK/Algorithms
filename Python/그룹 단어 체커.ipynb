{
 "cells": [
  {
   "cell_type": "code",
   "execution_count": 4,
   "id": "bf7c453b",
   "metadata": {},
   "outputs": [
    {
     "name": "stdout",
     "output_type": "stream",
     "text": [
      "num ? 4\n",
      "voca ? aba\n",
      "voca ? abab\n",
      "voca ? abcabc\n",
      "voca ? a\n",
      "1\n"
     ]
    }
   ],
   "source": [
    "N = int(input(\"num ? \"))\n",
    "cnt = 0\n",
    "for i in range(N):\n",
    "    voca = input(\"voca ? \")\n",
    "    li = []\n",
    "    \n",
    "    for j in range(len(voca)):\n",
    "        if(voca[j] not in li[:len(li)-1]):\n",
    "            li.append(voca[j])\n",
    "        else:\n",
    "            break\n",
    "    else:\n",
    "        cnt += 1\n",
    "\n",
    "print(cnt)"
   ]
  },
  {
   "cell_type": "code",
   "execution_count": null,
   "id": "843ae5a0",
   "metadata": {},
   "outputs": [],
   "source": []
  }
 ],
 "metadata": {
  "kernelspec": {
   "display_name": "Python 3",
   "language": "python",
   "name": "python3"
  },
  "language_info": {
   "codemirror_mode": {
    "name": "ipython",
    "version": 3
   },
   "file_extension": ".py",
   "mimetype": "text/x-python",
   "name": "python",
   "nbconvert_exporter": "python",
   "pygments_lexer": "ipython3",
   "version": "3.8.8"
  }
 },
 "nbformat": 4,
 "nbformat_minor": 5
}
