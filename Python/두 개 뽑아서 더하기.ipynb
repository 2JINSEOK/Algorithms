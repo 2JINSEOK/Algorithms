{
 "cells": [
  {
   "cell_type": "code",
   "execution_count": null,
   "id": "64b69c99",
   "metadata": {},
   "outputs": [],
   "source": [
    "\"\"\"\n",
    "1. 배열에 숫자를 입력받는다\n",
    "2. 모든 경우의 두 수의 합을 뽑아낸다\n",
    "3. 두 수의 합의 결과가 중복된다면 그것을 제거한다\n",
    "4. 결과값들을 오름차순으로 정리한다\n",
    "\"\"\""
   ]
  },
  {
   "cell_type": "code",
   "execution_count": 8,
   "id": "3a25267b",
   "metadata": {},
   "outputs": [
    {
     "name": "stdout",
     "output_type": "stream",
     "text": [
      "2 1 3 4 1\n",
      "[2, 1, 3, 4, 1]\n"
     ]
    }
   ],
   "source": [
    "numbers = [int(x) for x in input().split()]\n",
    "print(numbers)\n",
    "\n",
    "# \"1 2 3 4 5 6 7 8 9 10\"\n",
    "# [\"1\", \"2\", \"3\", ....\"10\"]\n",
    "\n",
    "#numbers = \"1 2 3 4 5 6 7 8 9 10\"\n",
    "#li = numbers.split()\n",
    "#print(li)\n",
    "\n",
    "#li_int = [int(li[i]) for i in range(len(li))]\n",
    "#print(li_int)"
   ]
  },
  {
   "cell_type": "code",
   "execution_count": 9,
   "id": "1a326436",
   "metadata": {},
   "outputs": [
    {
     "name": "stdout",
     "output_type": "stream",
     "text": [
      "[2, 3, 4, 5, 6, 7]\n"
     ]
    }
   ],
   "source": [
    "result = []\n",
    "# for문이 리스트와 합쳐지는 개념\n",
    "for i in range(len(numbers)):\n",
    "    for j in range(i+1, len(numbers)): \n",
    "        sum = 0\n",
    "        sum = numbers[i] + numbers[j]\n",
    "        if  sum not in result:\n",
    "            result.append(sum)\n",
    "result.sort() # 오름차순으로 정렬\n",
    "print(result)"
   ]
  },
  {
   "cell_type": "code",
   "execution_count": 11,
   "id": "e78b98ee",
   "metadata": {},
   "outputs": [],
   "source": [
    "def solution(numbers):\n",
    "    answer = []\n",
    "    for i in range(len(numbers)):\n",
    "        for j in range(i+1, len(numbers)): \n",
    "            sum = 0\n",
    "            sum = numbers[i] + numbers[j]\n",
    "            if  sum not in answer:\n",
    "                answer.append(sum)\n",
    "    answer.sort() # 오름차순으로 정렬\n",
    "    print(answer)\n",
    "    return answer"
   ]
  },
  {
   "cell_type": "code",
   "execution_count": 13,
   "id": "4bffc76e",
   "metadata": {},
   "outputs": [
    {
     "name": "stdout",
     "output_type": "stream",
     "text": [
      "[2, 3, 4, 5, 6, 7]\n"
     ]
    },
    {
     "data": {
      "text/plain": [
       "[2, 3, 4, 5, 6, 7]"
      ]
     },
     "execution_count": 13,
     "metadata": {},
     "output_type": "execute_result"
    }
   ],
   "source": [
    "numbers = [2,1,3,4,1]\n",
    "solution(numbers)"
   ]
  },
  {
   "cell_type": "code",
   "execution_count": null,
   "id": "8875d0e8",
   "metadata": {},
   "outputs": [],
   "source": []
  }
 ],
 "metadata": {
  "kernelspec": {
   "display_name": "Python 3",
   "language": "python",
   "name": "python3"
  },
  "language_info": {
   "codemirror_mode": {
    "name": "ipython",
    "version": 3
   },
   "file_extension": ".py",
   "mimetype": "text/x-python",
   "name": "python",
   "nbconvert_exporter": "python",
   "pygments_lexer": "ipython3",
   "version": "3.8.8"
  }
 },
 "nbformat": 4,
 "nbformat_minor": 5
}
